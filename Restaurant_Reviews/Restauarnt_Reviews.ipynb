{
  "nbformat": 4,
  "nbformat_minor": 0,
  "metadata": {
    "colab": {
      "provenance": []
    },
    "kernelspec": {
      "name": "python3",
      "display_name": "Python 3"
    },
    "language_info": {
      "name": "python"
    }
  },
  "cells": [
    {
      "cell_type": "code",
      "execution_count": 1,
      "metadata": {
        "id": "ZidpcLlVh1Yn"
      },
      "outputs": [],
      "source": [
        "import pandas as pd\n",
        "import numpy as np\n",
        "import matplotlib.pyplot as plt\n",
        "import seaborn as sns\n",
        "%matplotlib inline"
      ]
    },
    {
      "cell_type": "code",
      "source": [
        "df = pd.read_csv('https://raw.githubusercontent.com/subhashdixit/NLP/main/Restaurant_Reviews/Restaurant_Reviews.tsv',delimiter = \"\\t\")"
      ],
      "metadata": {
        "id": "WCSRwFxuj-YK"
      },
      "execution_count": 2,
      "outputs": []
    },
    {
      "cell_type": "code",
      "source": [
        "df"
      ],
      "metadata": {
        "colab": {
          "base_uri": "https://localhost:8080/",
          "height": 424
        },
        "id": "o2QOYI2tmCPL",
        "outputId": "bb364013-d5a0-4e24-8117-daa03871478e"
      },
      "execution_count": 3,
      "outputs": [
        {
          "output_type": "execute_result",
          "data": {
            "text/plain": [
              "                                                Review  Liked\n",
              "0                             Wow... Loved this place.      1\n",
              "1                                   Crust is not good.      0\n",
              "2            Not tasty and the texture was just nasty.      0\n",
              "3    Stopped by during the late May bank holiday of...      1\n",
              "4    The selection on the menu was great and so wer...      1\n",
              "..                                                 ...    ...\n",
              "995  I think food should have flavor and texture an...      0\n",
              "996                           Appetite instantly gone.      0\n",
              "997  Overall I was not impressed and would not go b...      0\n",
              "998  The whole experience was underwhelming, and I ...      0\n",
              "999  Then, as if I hadn't wasted enough of my life ...      0\n",
              "\n",
              "[1000 rows x 2 columns]"
            ],
            "text/html": [
              "\n",
              "  <div id=\"df-de878d6a-a4fc-4ae6-92f5-c8a8da619e9f\">\n",
              "    <div class=\"colab-df-container\">\n",
              "      <div>\n",
              "<style scoped>\n",
              "    .dataframe tbody tr th:only-of-type {\n",
              "        vertical-align: middle;\n",
              "    }\n",
              "\n",
              "    .dataframe tbody tr th {\n",
              "        vertical-align: top;\n",
              "    }\n",
              "\n",
              "    .dataframe thead th {\n",
              "        text-align: right;\n",
              "    }\n",
              "</style>\n",
              "<table border=\"1\" class=\"dataframe\">\n",
              "  <thead>\n",
              "    <tr style=\"text-align: right;\">\n",
              "      <th></th>\n",
              "      <th>Review</th>\n",
              "      <th>Liked</th>\n",
              "    </tr>\n",
              "  </thead>\n",
              "  <tbody>\n",
              "    <tr>\n",
              "      <th>0</th>\n",
              "      <td>Wow... Loved this place.</td>\n",
              "      <td>1</td>\n",
              "    </tr>\n",
              "    <tr>\n",
              "      <th>1</th>\n",
              "      <td>Crust is not good.</td>\n",
              "      <td>0</td>\n",
              "    </tr>\n",
              "    <tr>\n",
              "      <th>2</th>\n",
              "      <td>Not tasty and the texture was just nasty.</td>\n",
              "      <td>0</td>\n",
              "    </tr>\n",
              "    <tr>\n",
              "      <th>3</th>\n",
              "      <td>Stopped by during the late May bank holiday of...</td>\n",
              "      <td>1</td>\n",
              "    </tr>\n",
              "    <tr>\n",
              "      <th>4</th>\n",
              "      <td>The selection on the menu was great and so wer...</td>\n",
              "      <td>1</td>\n",
              "    </tr>\n",
              "    <tr>\n",
              "      <th>...</th>\n",
              "      <td>...</td>\n",
              "      <td>...</td>\n",
              "    </tr>\n",
              "    <tr>\n",
              "      <th>995</th>\n",
              "      <td>I think food should have flavor and texture an...</td>\n",
              "      <td>0</td>\n",
              "    </tr>\n",
              "    <tr>\n",
              "      <th>996</th>\n",
              "      <td>Appetite instantly gone.</td>\n",
              "      <td>0</td>\n",
              "    </tr>\n",
              "    <tr>\n",
              "      <th>997</th>\n",
              "      <td>Overall I was not impressed and would not go b...</td>\n",
              "      <td>0</td>\n",
              "    </tr>\n",
              "    <tr>\n",
              "      <th>998</th>\n",
              "      <td>The whole experience was underwhelming, and I ...</td>\n",
              "      <td>0</td>\n",
              "    </tr>\n",
              "    <tr>\n",
              "      <th>999</th>\n",
              "      <td>Then, as if I hadn't wasted enough of my life ...</td>\n",
              "      <td>0</td>\n",
              "    </tr>\n",
              "  </tbody>\n",
              "</table>\n",
              "<p>1000 rows × 2 columns</p>\n",
              "</div>\n",
              "      <button class=\"colab-df-convert\" onclick=\"convertToInteractive('df-de878d6a-a4fc-4ae6-92f5-c8a8da619e9f')\"\n",
              "              title=\"Convert this dataframe to an interactive table.\"\n",
              "              style=\"display:none;\">\n",
              "        \n",
              "  <svg xmlns=\"http://www.w3.org/2000/svg\" height=\"24px\"viewBox=\"0 0 24 24\"\n",
              "       width=\"24px\">\n",
              "    <path d=\"M0 0h24v24H0V0z\" fill=\"none\"/>\n",
              "    <path d=\"M18.56 5.44l.94 2.06.94-2.06 2.06-.94-2.06-.94-.94-2.06-.94 2.06-2.06.94zm-11 1L8.5 8.5l.94-2.06 2.06-.94-2.06-.94L8.5 2.5l-.94 2.06-2.06.94zm10 10l.94 2.06.94-2.06 2.06-.94-2.06-.94-.94-2.06-.94 2.06-2.06.94z\"/><path d=\"M17.41 7.96l-1.37-1.37c-.4-.4-.92-.59-1.43-.59-.52 0-1.04.2-1.43.59L10.3 9.45l-7.72 7.72c-.78.78-.78 2.05 0 2.83L4 21.41c.39.39.9.59 1.41.59.51 0 1.02-.2 1.41-.59l7.78-7.78 2.81-2.81c.8-.78.8-2.07 0-2.86zM5.41 20L4 18.59l7.72-7.72 1.47 1.35L5.41 20z\"/>\n",
              "  </svg>\n",
              "      </button>\n",
              "      \n",
              "  <style>\n",
              "    .colab-df-container {\n",
              "      display:flex;\n",
              "      flex-wrap:wrap;\n",
              "      gap: 12px;\n",
              "    }\n",
              "\n",
              "    .colab-df-convert {\n",
              "      background-color: #E8F0FE;\n",
              "      border: none;\n",
              "      border-radius: 50%;\n",
              "      cursor: pointer;\n",
              "      display: none;\n",
              "      fill: #1967D2;\n",
              "      height: 32px;\n",
              "      padding: 0 0 0 0;\n",
              "      width: 32px;\n",
              "    }\n",
              "\n",
              "    .colab-df-convert:hover {\n",
              "      background-color: #E2EBFA;\n",
              "      box-shadow: 0px 1px 2px rgba(60, 64, 67, 0.3), 0px 1px 3px 1px rgba(60, 64, 67, 0.15);\n",
              "      fill: #174EA6;\n",
              "    }\n",
              "\n",
              "    [theme=dark] .colab-df-convert {\n",
              "      background-color: #3B4455;\n",
              "      fill: #D2E3FC;\n",
              "    }\n",
              "\n",
              "    [theme=dark] .colab-df-convert:hover {\n",
              "      background-color: #434B5C;\n",
              "      box-shadow: 0px 1px 3px 1px rgba(0, 0, 0, 0.15);\n",
              "      filter: drop-shadow(0px 1px 2px rgba(0, 0, 0, 0.3));\n",
              "      fill: #FFFFFF;\n",
              "    }\n",
              "  </style>\n",
              "\n",
              "      <script>\n",
              "        const buttonEl =\n",
              "          document.querySelector('#df-de878d6a-a4fc-4ae6-92f5-c8a8da619e9f button.colab-df-convert');\n",
              "        buttonEl.style.display =\n",
              "          google.colab.kernel.accessAllowed ? 'block' : 'none';\n",
              "\n",
              "        async function convertToInteractive(key) {\n",
              "          const element = document.querySelector('#df-de878d6a-a4fc-4ae6-92f5-c8a8da619e9f');\n",
              "          const dataTable =\n",
              "            await google.colab.kernel.invokeFunction('convertToInteractive',\n",
              "                                                     [key], {});\n",
              "          if (!dataTable) return;\n",
              "\n",
              "          const docLinkHtml = 'Like what you see? Visit the ' +\n",
              "            '<a target=\"_blank\" href=https://colab.research.google.com/notebooks/data_table.ipynb>data table notebook</a>'\n",
              "            + ' to learn more about interactive tables.';\n",
              "          element.innerHTML = '';\n",
              "          dataTable['output_type'] = 'display_data';\n",
              "          await google.colab.output.renderOutput(dataTable, element);\n",
              "          const docLink = document.createElement('div');\n",
              "          docLink.innerHTML = docLinkHtml;\n",
              "          element.appendChild(docLink);\n",
              "        }\n",
              "      </script>\n",
              "    </div>\n",
              "  </div>\n",
              "  "
            ]
          },
          "metadata": {},
          "execution_count": 3
        }
      ]
    },
    {
      "cell_type": "markdown",
      "source": [
        "## **Text Cleaning**\n",
        "* Remove Punctuations, Numbers: Punctuations, Numbers don’t help much in processing the given text, if included, they will just increase the size of a bag of words that we will create as the last step and decrease the efficiency of an algorithm\n",
        "* Stemming: Take roots of the word \n",
        "![image.png](data:image/png;base64,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)\n",
        "* Convert each word into its lower case: For example, it is useless to have some words in different cases (eg ‘good’ and ‘GOOD’)"
      ],
      "metadata": {
        "id": "RqXHjBskNuuE"
      }
    },
    {
      "cell_type": "code",
      "source": [
        "df.isnull().sum()"
      ],
      "metadata": {
        "id": "7Xu0yd6BmCVe",
        "colab": {
          "base_uri": "https://localhost:8080/"
        },
        "outputId": "c24e0db9-dcb1-4068-9878-14800bca6eb4"
      },
      "execution_count": 4,
      "outputs": [
        {
          "output_type": "execute_result",
          "data": {
            "text/plain": [
              "Review    0\n",
              "Liked     0\n",
              "dtype: int64"
            ]
          },
          "metadata": {},
          "execution_count": 4
        }
      ]
    },
    {
      "cell_type": "markdown",
      "source": [
        "**Stopwords**\n",
        "* Stopwords are the words in any language which does not add much meaning to a sentence\n",
        "* They can safely be ignored without sacrificing the meaning of the sentence. For some search engines, these are some of the most common, short function words, such as the, is, at, which, and on\n",
        "* stop words can cause problems when searching for phrases that include them, particularly in names such as “The Who” or “Take That”"
      ],
      "metadata": {
        "id": "qofB0cc4T6PB"
      }
    },
    {
      "cell_type": "code",
      "source": [
        "\"\"\"library to clean data\"\"\"\n",
        "import re\n",
        "\"\"\"Natural Language Tool Kit\"\"\"\n",
        "import nltk\n",
        "nltk.download('stopwords')\n",
        "\"\"\"to remove stopword\"\"\"\n",
        "from nltk.corpus import stopwords\n",
        "\"\"\"for Stemming propose\"\"\"\n",
        "from nltk.stem.porter import PorterStemmer"
      ],
      "metadata": {
        "colab": {
          "base_uri": "https://localhost:8080/"
        },
        "id": "3SJTjU-7mCYU",
        "outputId": "edf9b100-0a36-4ae5-933f-31cf693beef2"
      },
      "execution_count": 5,
      "outputs": [
        {
          "output_type": "stream",
          "name": "stderr",
          "text": [
            "[nltk_data] Downloading package stopwords to /root/nltk_data...\n",
            "[nltk_data]   Package stopwords is already up-to-date!\n"
          ]
        }
      ]
    },
    {
      "cell_type": "code",
      "source": [
        "# Initialize empty array\n",
        "# to append clean text\n",
        "corpus = []\n",
        "\n",
        "for i in range(0, 1000):\n",
        "    # column : \"Review\", row ith\n",
        "    review = re.sub('[^a-zA-Z]', ' ', df['Review'][i])\n",
        "   \n",
        "    # # convert all cases to lower cases\n",
        "    review = review.lower()\n",
        "     \n",
        "    # # split to array(default delimiter is \" \")\n",
        "    review = review.split()\n",
        "     \n",
        "    \"\"\"creating PorterStemmer object to take main stem of each word\"\"\"\n",
        "    ps = PorterStemmer()\n",
        "     \n",
        "    \"\"\"loop for stemming each word in string array at ith row\"\"\"   \n",
        "    review = [ps.stem(word) for word in review\n",
        "                if not word in set(stopwords.words('english'))]\n",
        "                 \n",
        "    \"\"\"rejoin all string array elements to create back into a string\"\"\"\n",
        "    review = ' '.join(review) \n",
        "     \n",
        "    \"\"\"append each string to create array of clean text\"\"\"\n",
        "    corpus.append(review)\n",
        "print(corpus)"
      ],
      "metadata": {
        "id": "PZv43F0VmCaw",
        "colab": {
          "base_uri": "https://localhost:8080/"
        },
        "outputId": "41bbbe61-1b02-4751-b28e-45a7e0a4b364"
      },
      "execution_count": 6,
      "outputs": [
        {
          "output_type": "stream",
          "name": "stdout",
          "text": [
            "['wow love place', 'crust good', 'tasti textur nasti', 'stop late may bank holiday rick steve recommend love', 'select menu great price', 'get angri want damn pho', 'honeslti tast fresh', 'potato like rubber could tell made ahead time kept warmer', 'fri great', 'great touch', 'servic prompt', 'would go back', 'cashier care ever say still end wayyy overpr', 'tri cape cod ravoli chicken cranberri mmmm', 'disgust pretti sure human hair', 'shock sign indic cash', 'highli recommend', 'waitress littl slow servic', 'place worth time let alon vega', 'like', 'burritto blah', 'food amaz', 'servic also cute', 'could care less interior beauti', 'perform', 'right red velvet cake ohhh stuff good', 'never brought salad ask', 'hole wall great mexican street taco friendli staff', 'took hour get food tabl restaur food luke warm sever run around like total overwhelm', 'worst salmon sashimi', 'also combo like burger fri beer decent deal', 'like final blow', 'found place accid could happier', 'seem like good quick place grab bite familiar pub food favor look elsewher', 'overal like place lot', 'redeem qualiti restaur inexpens', 'ampl portion good price', 'poor servic waiter made feel like stupid everi time came tabl', 'first visit hiro delight', 'servic suck', 'shrimp tender moist', 'deal good enough would drag establish', 'hard judg whether side good gross melt styrofoam want eat fear get sick', 'posit note server attent provid great servic', 'frozen puck disgust worst peopl behind regist', 'thing like prime rib dessert section', 'bad food damn gener', 'burger good beef cook right', 'want sandwich go firehous', 'side greek salad greek dress tasti pita hummu refresh', 'order duck rare pink tender insid nice char outsid', 'came run us realiz husband left sunglass tabl', 'chow mein good', 'horribl attitud toward custom talk one custom enjoy food', 'portion huge', 'love friendli server great food wonder imagin menu', 'heart attack grill downtown vega absolut flat line excus restaur', 'much seafood like string pasta bottom', 'salad right amount sauc power scallop perfectli cook', 'rip banana rip petrifi tasteless', 'least think refil water struggl wave minut', 'place receiv star appet', 'cocktail handmad delici', 'definit go back', 'glad found place', 'great food servic huge portion give militari discount', 'alway great time do gringo', 'updat went back second time still amaz', 'got food appar never heard salt batter fish chewi', 'great way finish great', 'deal includ tast drink jeff went beyond expect', 'realli realli good rice time', 'servic meh', 'took min get milkshak noth chocol milk', 'guess known place would suck insid excalibur use common sens', 'scallop dish quit appal valu well', 'time bad custom servic', 'sweet potato fri good season well', 'today second time lunch buffet pretti good', 'much good food vega feel cheat wast eat opportun go rice compani', 'come like experienc underwhelm relationship parti wait person ask break', 'walk place smell like old greas trap other eat', 'turkey roast beef bland', 'place', 'pan cake everyon rave tast like sugari disast tailor palat six year old', 'love pho spring roll oh yummi tri', 'poor batter meat ratio made chicken tender unsatisfi', 'say food amaz', 'omelet die', 'everyth fresh delici', 'summari larg disappoint dine experi', 'like realli sexi parti mouth outrag flirt hottest person parti', 'never hard rock casino never ever step forward', 'best breakfast buffet', 'say bye bye tip ladi', 'never go', 'back', 'food arriv quickli', 'good', 'side cafe serv realli good food', 'server fantast found wife love roast garlic bone marrow ad extra meal anoth marrow go', 'good thing waiter help kept bloddi mari come', 'best buffet town price cannot beat', 'love mussel cook wine reduct duck tender potato dish delici', 'one better buffet', 'went tigerlilli fantast afternoon', 'food delici bartend attent person got great deal', 'ambienc wonder music play', 'go back next trip', 'sooooo good', 'real sushi lover let honest yama good', 'least min pass us order food arriv busi', 'realli fantast thai restaur definit worth visit', 'nice spici tender', 'good price', 'check', 'pretti gross', 'better atmospher', 'kind hard mess steak', 'although much like look sound place actual experi bit disappoint', 'know place manag serv blandest food ever eaten prepar indian cuisin', 'worst servic boot least worri', 'servic fine waitress friendli', 'guy steak steak love son steak best worst place said best steak ever eaten', 'thought ventur away get good sushi place realli hit spot night', 'host staff lack better word bitch', 'bland like place number reason want wast time bad review leav', 'phenomen food servic ambianc', 'return', 'definit worth ventur strip pork belli return next time vega', 'place way overpr mediocr food', 'penn vodka excel', 'good select food includ massiv meatloaf sandwich crispi chicken wrap delish tuna melt tasti burger', 'manag rude', 'delici nyc bagel good select cream chees real lox caper even', 'great subway fact good come everi subway meet expect', 'serious solid breakfast', 'one best bar food vega', 'extrem rude realli mani restaur would love dine weekend vega', 'drink never empti made realli great menu suggest', '', 'waiter help friendli rare check us', 'husband ate lunch disappoint food servic', 'red curri much bamboo shoot tasti', 'nice blanket moz top feel like done cover subpar food', 'bathroom clean place well decor', 'menu alway chang food qualiti go servic extrem slow', 'servic littl slow consid serv peopl server food come slow pace', 'give thumb', 'watch waiter pay lot attent tabl ignor us', 'fianc came middl day greet seat right away', 'great restaur mandalay bay', 'wait forti five minut vain', 'crostini came salad stale', 'highlight great qualiti nigiri', 'staff friendli joint alway clean', 'differ cut piec day still wonder tender well well flavor', 'order voodoo pasta first time realli excel pasta sinc go gluten free sever year ago', 'place good', 'unfortun must hit bakeri leftov day everyth order stale', 'came back today sinc reloc still impress', 'seat immedi', 'menu divers reason price', 'avoid cost', 'restaur alway full never wait', 'delici', 'place hand one best place eat phoenix metro area', 'go look good food', 'never treat bad', 'bacon hella salti', 'also order spinach avocado salad ingredi sad dress liter zero tast', 'realli vega fine dine use right menu hand ladi price list', 'waitress friendli', 'lordi khao soi dish miss curri lover', 'everyth menu terrif also thrill made amaz accommod vegetarian daughter', 'perhap caught night judg review inspir go back', 'servic leav lot desir', 'atmospher modern hip maintain touch cozi', 'weekli haunt definit place come back everi', 'liter sat minut one ask take order', 'burger absolut flavor meat total bland burger overcook charcoal flavor', 'also decid send back waitress look like verg heart attack', 'dress treat rude', 'probabl dirt', 'love place hit spot want someth healthi lack quantiti flavor', 'order lemon raspberri ice cocktail also incred', 'food suck expect suck could imagin', 'interest decor', 'realli like crepe station', 'also serv hot bread butter home made potato chip bacon bit top origin good', 'watch prepar delici food', 'egg roll fantast', 'order arriv one gyro miss', 'salad wing ice cream dessert left feel quit satisfi', 'realli sure joey vote best hot dog valley reader phoenix magazin', 'best place go tasti bowl pho', 'live music friday total blow', 'never insult felt disrespect', 'friendli staff', 'worth drive', 'heard good thing place exceed everi hope could dream', 'food great serivc', 'warm beer help', 'great brunch spot', 'servic friendli invit', 'good lunch spot', 'live sinc first last time step foot place', 'worst experi ever', 'must night place', 'side delish mix mushroom yukon gold pure white corn beateou', 'bug never show would given sure side wall bug climb kitchen', 'minut wait salad realiz come time soon', 'friend love salmon tartar', 'go back', 'extrem tasti', 'waitress good though', 'soggi good', 'jamaican mojito delici', 'small worth price', 'food rich order accordingli', 'shower area outsid rins take full shower unless mind nude everyon see', 'servic bit lack', 'lobster bisqu bussel sprout risotto filet need salt pepper cours none tabl', 'hope bode go busi someon cook come', 'either cold enough flavor bad', 'love bacon wrap date', 'unbeliev bargain', 'folk otto alway make us feel welcom special', 'main also uninspir', 'place first pho amaz', 'wonder experi made place must stop whenev town', 'food bad enough enjoy deal world worst annoy drunk peopl', 'fun chef', 'order doubl cheeseburg got singl patti fall apart pictur upload yeah still suck', 'great place coupl drink watch sport event wall cover tv', 'possibl give zero star', 'descript said yum yum sauc anoth said eel sauc yet anoth said spici mayo well none roll sauc', 'say would hardest decis honestli dish tast suppos tast amaz', 'roll eye may stay sure go back tri', 'everyon attent provid excel custom servic', 'horribl wast time money', 'dish quit flavour', 'time side restaur almost empti excus', 'busi either also build freez cold', 'like review said pay eat place', 'drink took close minut come one point', 'serious flavor delight folk', 'much better ayc sushi place went vega', 'light dark enough set mood', 'base sub par servic receiv effort show gratitud busi go back', 'owner realli great peopl', 'noth privileg work eat', 'greek dress creami flavor', 'overal think would take parent place made similar complaint silent felt', 'pizza good peanut sauc tasti', 'tabl servic pretti fast', 'fantast servic', 'well would given godfath zero star possibl', 'know make', 'tough short flavor', 'hope place stick around', 'bar vega ever recal charg tap water', 'restaur atmospher exquisit', 'good servic clean inexpens boot', 'seafood fresh gener portion', 'plu buck', 'servic par either', 'thu far visit twice food absolut delici time', 'good year ago', 'self proclaim coffe cafe wildli disappoint', 'veggitarian platter world', 'cant go wrong food', 'beat', 'stop place madison ironman friendli kind staff', 'chef friendli good job', 'better dedic boba tea spot even jenni pho', 'like patio servic outstand', 'goat taco skimp meat wow flavor', 'think', 'mac salad pretti bland get', 'went bachi burger friend recommend disappoint', 'servic stink', 'wait wait', 'place qualiti sushi qualiti restaur', 'would definit recommend wing well pizza', 'great pizza salad', 'thing went wrong burn saganaki', 'wait hour breakfast could done time better home', 'place amaz', 'hate disagre fellow yelper husband disappoint place', 'wait hour never got either pizza mani around us came later', 'know slow', 'staff great food delish incred beer select', 'live neighborhood disappoint back conveni locat', 'know pull pork could soooo delici', 'get incred fresh fish prepar care', 'go gave star rate pleas know third time eat bachi burger write review', 'love fact everyth menu worth', 'never dine place', 'food excel servic good', 'good beer drink select good food select', 'pleas stay away shrimp stir fri noodl', 'potato chip order sad could probabl count mani chip box probabl around', 'food realli bore', 'good servic check', 'greedi corpor never see anoth dime', 'never ever go back', 'much like go back get pass atroci servic never return', 'summer dine charm outdoor patio delight', 'expect good', 'fantast food', 'order toast english muffin came untoast', 'food good', 'never go back', 'great food price high qualiti hous made', 'bu boy hand rude', 'point friend basic figur place joke mind make publicli loudli known', 'back good bbq lighter fare reason price tell public back old way', 'consid two us left full happi go wrong', 'bread made hous', 'downsid servic', 'also fri without doubt worst fri ever', 'servic except food good review', 'coupl month later return amaz meal', 'favorit place town shawarrrrrrma', 'black eye pea sweet potato unreal', 'disappoint', 'could serv vinaigrett may make better overal dish still good', 'go far mani place never seen restaur serv egg breakfast especi', 'mom got home immedi got sick bite salad', 'server pleasant deal alway honor pizza hut coupon', 'truli unbeliev good glad went back', 'fantast servic pleas atmospher', 'everyth gross', 'love place', 'great servic food', 'first bathroom locat dirti seat cover replenish plain yucki', 'burger got gold standard burger kind disappoint', 'omg food delicioso', 'noth authent place', 'spaghetti noth special whatsoev', 'dish salmon best great', 'veget fresh sauc feel like authent thai', 'worth drive tucson', 'select probabl worst seen vega none', 'pretti good beer select', 'place like chipotl better', 'classi warm atmospher fun fresh appet succul steak basebal steak', 'star brick oven bread app', 'eaten multipl time time food delici', 'sat anoth ten minut final gave left', 'terribl', 'everyon treat equal special', 'take min pancak egg', 'delici', 'good side staff genuin pleasant enthusiast real treat', 'sadli gordon ramsey steak place shall sharpli avoid next trip vega', 'alway even wonder food delici', 'best fish ever life', 'bathroom next door nice', 'buffet small food offer bland', 'outstand littl restaur best food ever tast', 'pretti cool would say', 'definit turn doubt back unless someon els buy', 'server great job handl larg rowdi tabl', 'find wast food despic food', 'wife lobster bisqu soup lukewarm', 'would come back sushi crave vega', 'staff great ambianc great', 'deserv star', 'left stomach ach felt sick rest day', 'drop ball', 'dine space tini elegantli decor comfort', 'custom order way like usual eggplant green bean stir fri love', 'bean rice mediocr best', 'best taco town far', 'took back money got outta', 'interest part town place amaz', 'rude inconsider manag', 'staff friendli wait time serv horribl one even say hi first minut', 'back', 'great dinner', 'servic outshin definit recommend halibut', 'food terribl', 'never ever go back told mani peopl happen', 'recommend unless car break front starv', 'come back everi time vega', 'place deserv one star food', 'disgrac', 'def come back bowl next time', 'want healthi authent ethic food tri place', 'continu come ladi night andddd date night highli recommend place anyon area', 'sever time past experi alway great', 'walk away stuf happi first vega buffet experi', 'servic excel price pretti reason consid vega locat insid crystal shop mall aria', 'summar food incred nay transcend noth bring joy quit like memori pneumat condiment dispens', 'probabl one peopl ever go ian like', 'kid pizza alway hit lot great side dish option kiddo', 'servic perfect famili atmospher nice see', 'cook perfect servic impecc', 'one simpli disappoint', 'overal disappoint qualiti food bouchon', 'account know get screw', 'great place eat remind littl mom pop shop san francisco bay area', 'today first tast buldogi gourmet hot dog tell ever thought possibl', 'left frustrat', 'definit soon', 'food realli good got full petti fast', 'servic fantast', 'total wast time', 'know kind best ice tea', 'come hungri leav happi stuf', 'servic give star', 'assur disappoint', 'take littl bad servic food suck', 'gave tri eat crust teeth still sore', 'complet gross', 'realli enjoy eat', 'first time go think quickli becom regular', 'server nice even though look littl overwhelm need stay profession friendli end', 'dinner companion told everyth fresh nice textur tast', 'ground right next tabl larg smear step track everywher pile green bird poop', 'furthermor even find hour oper websit', 'tri like place time think done', 'mistak', 'complaint', 'serious good pizza expert connisseur topic', 'waiter jerk', 'strike want rush', 'nicest restaur owner ever come across', 'never come', 'love biscuit', 'servic quick friendli', 'order appet took minut pizza anoth minut', 'absolutley fantast', 'huge awkward lb piec cow th gristl fat', 'definit come back', 'like steiner dark feel like bar', 'wow spici delici', 'familiar check', 'take busi dinner dollar elsewher', 'love go back', 'anyway fs restaur wonder breakfast lunch', 'noth special', 'day week differ deal delici', 'mention combin pear almond bacon big winner', 'back', 'sauc tasteless', 'food delici spici enough sure ask spicier prefer way', 'ribey steak cook perfectli great mesquit flavor', 'think go back anytim soon', 'food gooodd', 'far sushi connoisseur definit tell differ good food bad food certainli bad food', 'insult', 'last time lunch bad', 'chicken wing contain driest chicken meat ever eaten', 'food good enjoy everi mouth enjoy relax venu coupl small famili group etc', 'nargil think great', 'best tater tot southwest', 'love place', 'definit worth paid', 'vanilla ice cream creami smooth profiterol choux pastri fresh enough', 'im az time new spot', 'manag worst', 'insid realli quit nice clean', 'food outstand price reason', 'think run back carli anytim soon food', 'due fact took minut acknowledg anoth minut get food kept forget thing', 'love margarita', 'first vega buffet disappoint', 'good though', 'one note ventil could use upgrad', 'great pork sandwich', 'wast time', 'total letdown would much rather go camelback flower shop cartel coffe', 'third chees friend burger cold', 'enjoy pizza brunch', 'steak well trim also perfectli cook', 'group claim would handl us beauti', 'love', 'ask bill leav without eat bring either', 'place jewel la vega exactli hope find nearli ten year live', 'seafood limit boil shrimp crab leg crab leg definit tast fresh', 'select food best', 'delici absolut back', 'small famili restaur fine dine establish', 'toro tartar cavier extraordinari like thinli slice wagyu white truffl', 'dont think back long time', 'attach ga station rare good sign', 'awesom', 'back mani time soon', 'menu much good stuff could decid', 'wors humili worker right front bunch horribl name call', 'conclus fill meal', 'daili special alway hit group', 'tragedi struck', 'pancak also realli good pretti larg', 'first crawfish experi delici', 'monster chicken fri steak egg time favorit', 'waitress sweet funni', 'also tast mom multi grain pumpkin pancak pecan butter amaz fluffi delici', 'rather eat airlin food serious', 'cant say enough good thing place', 'ambianc incred', 'waitress manag friendli', 'would recommend place', 'overal impress noca', 'gyro basic lettuc', 'terribl servic', 'thoroughli disappoint', 'much pasta love homemad hand made pasta thin pizza', 'give tri happi', 'far best cheesecurd ever', 'reason price also', 'everyth perfect night', 'food good typic bar food', 'drive get', 'first glanc love bakeri cafe nice ambianc clean friendli staff', 'anyway think go back', 'point finger item menu order disappoint', 'oh thing beauti restaur', 'gone go', 'greasi unhealthi meal', 'first time might last', 'burger amaz', 'similarli deliveri man say word apolog food minut late', 'way expens', 'sure order dessert even need pack go tiramisu cannoli die', 'first time wait next', 'bartend also nice', 'everyth good tasti', 'place two thumb way', 'best place vega breakfast check sat sun', 'love authent mexican food want whole bunch interest yet delici meat choos need tri place', 'terribl manag', 'excel new restaur experienc frenchman', 'zero star would give zero star', 'great steak great side great wine amaz dessert', 'worst martini ever', 'steak shrimp opinion best entre gc', 'opportun today sampl amaz pizza', 'wait thirti minut seat although vacant tabl folk wait', 'yellowtail carpaccio melt mouth fresh', 'tri go back even empti', 'go eat potato found stranger hair', 'spici enough perfect actual', 'last night second time dine happi decid go back', 'even hello right', 'dessert bit strang', 'boyfriend came first time recent trip vega could pleas qualiti food servic', 'realli recommend place go wrong donut place', 'nice ambianc', 'would recommend save room', 'guess mayb went night disgrac', 'howev recent experi particular locat good', 'know like restaur someth', 'avoid establish', 'think restaur suffer tri hard enough', 'tapa dish delici', 'heart place', 'salad bland vinegrett babi green heart palm', 'two felt disgust', 'good time', 'believ place great stop huge belli hanker sushi', 'gener portion great tast', 'never go back place never ever recommend place anyon', 'server went back forth sever time even much help', 'food delici', 'hour serious', 'consid theft', 'eew locat need complet overhaul', 'recent wit poor qualiti manag toward guest well', 'wait wait wait', 'also came back check us regularli excel servic', 'server super nice check us mani time', 'pizza tast old super chewi good way', 'swung give tri deepli disappoint', 'servic good compani better', 'staff also friendli effici', 'servic fan quick serv nice folk', 'boy sucker dri', 'rate', 'look authent thai food go els', 'steak recommend', 'pull car wait anoth minut acknowledg', 'great food great servic clean friendli set', 'assur back', 'hate thing much cheap qualiti black oliv', 'breakfast perpar great beauti present giant slice toast lightli dust powder sugar', 'kid play area nasti', 'great place fo take eat', 'waitress friendli happi accomod vegan veggi option', 'omg felt like never eaten thai food dish', 'extrem crumbi pretti tasteless', 'pale color instead nice char flavor', 'crouton also tast homemad extra plu', 'got home see driest damn wing ever', 'regular stop trip phoenix', 'realli enjoy crema caf expand even told friend best breakfast', 'good money', 'miss wish one philadelphia', 'got sit fairli fast end wait minut place order anoth minut food arriv', 'also best chees crisp town', 'good valu great food great servic', 'ask satisfi meal', 'food good', 'awesom', 'want leav', 'made drive way north scottsdal one bit disappoint', 'eat', 'owner realli realli need quit soooooo cheap let wrap freak sandwich two paper one', 'check place coupl year ago impress', 'chicken got definit reheat ok wedg cold soggi', 'sorri get food anytim soon', 'absolut must visit', 'cow tongu cheek taco amaz', 'friend like bloodi mari', 'despit hard rate busi actual rare give star', 'realli want make experi good one', 'return', 'chicken pho tast bland', 'disappoint', 'grill chicken tender yellow saffron season', 'drive thru mean want wait around half hour food somehow end go make us wait wait', 'pretti awesom place', 'ambienc perfect', 'best luck rude non custom servic focus new manag', 'grandmoth make roast chicken better one', 'ask multipl time wine list time ignor went hostess got one', 'staff alway super friendli help especi cool bring two small boy babi', 'four star food guy blue shirt great vibe still let us eat', 'roast beef sandwich tast realli good', 'even drastic sick', 'high qualiti chicken chicken caesar salad', 'order burger rare came done', 'promptli greet seat', 'tri go lunch madhous', 'proven dead wrong sushi bar qualiti great servic fast food impecc', 'wait hour seat greatest mood', 'good joint', 'macaron insan good', 'eat', 'waiter attent friendli inform', 'mayb cold would somewhat edibl', 'place lot promis fail deliv', 'bad experi', 'mistak', 'food averag best', 'great food', 'go back anytim soon', 'disappoint order big bay plater', 'great place relax awesom burger beer', 'perfect sit famili meal get togeth friend', 'much flavor poorli construct', 'patio seat comfort', 'fri rice dri well', 'hand favorit italian restaur', 'scream legit book somethat also pretti rare vega', 'fun experi', 'atmospher great love duo violinist play song request', 'person love hummu pita baklava falafel baba ganoush amaz eggplant', 'conveni sinc stay mgm', 'owner super friendli staff courteou', 'great', 'eclect select', 'sweet potato tot good onion ring perfect close', 'staff attent', 'chef gener time even came around twice take pictur', 'owner use work nobu place realli similar half price', 'googl mediocr imagin smashburg pop', 'dont go', 'promis disappoint', 'sushi lover avoid place mean', 'great doubl cheeseburg', 'awesom servic food', 'fantast neighborhood gem', 'wait go back', 'plantain worst ever tast', 'great place highli recommend', 'servic slow attent', 'gave star give star', 'staff spend time talk', 'dessert panna cotta amaz', 'good food great atmospher', 'damn good steak', 'total brunch fail', 'price reason flavor spot sauc home made slaw drench mayo', 'decor nice piano music soundtrack pleasant', 'steak amaz rge fillet relleno best seafood plate ever', 'good food good servic', 'absolut amaz', 'probabl back honest', 'definit back', 'sergeant pepper beef sandwich auju sauc excel sandwich well', 'hawaiian breez mango magic pineappl delight smoothi tri far good', 'went lunch servic slow', 'much say place walk expect amaz quickli disappoint', 'mortifi', 'needless say never back', 'anyway food definit fill price pay expect', 'chip came drip greas mostli edibl', 'realli impress strip steak', 'go sinc everi meal awesom', 'server nice attent serv staff', 'cashier friendli even brought food', 'work hospit industri paradis valley refrain recommend cibo longer', 'atmospher fun', 'would recommend other', 'servic quick even go order like like', 'mean realli get famou fish chip terribl', 'said mouth belli still quit pleas', 'thing', 'thumb', 'read pleas go', 'love grill pizza remind legit italian pizza', 'pro larg seat area nice bar area great simpl drink menu best brick oven pizza homemad dough', 'realli nice atmospher', 'tonight elk filet special suck', 'one bite hook', 'order old classic new dish go time sore disappoint everyth', 'cute quaint simpl honest', 'chicken delici season perfect fri outsid moist chicken insid', 'food great alway compliment chef', 'special thank dylan recommend order yummi tummi', 'awesom select beer', 'great food awesom servic', 'one nice thing ad gratuiti bill sinc parti larger expect tip', 'fli appl juic fli', 'han nan chicken also tasti', 'servic thought good', 'food bare lukewarm must sit wait server bring us', 'ryan bar definit one edinburgh establish revisit', 'nicest chines restaur', 'overal like food servic', 'also serv indian naan bread hummu spici pine nut sauc world', 'probabl never come back recommend', 'friend pasta also bad bare touch', 'tri airport experi tasti food speedi friendli servic', 'love decor chines calligraphi wall paper', 'never anyth complain', 'restaur clean famili restaur feel', 'way fri', 'sure long stood long enough begin feel awkwardli place', 'open sandwich impress good way', 'back', 'warm feel servic felt like guest special treat', 'extens menu provid lot option breakfast', 'alway order vegetarian menu dinner wide array option choos', 'watch price inflat portion get smaller manag attitud grow rapidli', 'wonder lil tapa ambienc made feel warm fuzzi insid', 'got enjoy seafood salad fabul vinegrett', 'wonton thin thick chewi almost melt mouth', 'level spici perfect spice whelm soup', 'sat right time server get go fantast', 'main thing enjoy crowd older crowd around mid', 'side town definit spot hit', 'wait minut get drink longer get arepa', 'great place eat', 'jalapeno bacon soooo good', 'servic poor that nice', 'food good servic good price good', 'place clean food oh stale', 'chicken dish ok beef like shoe leather', 'servic beyond bad', 'happi', 'tast like dirt', 'one place phoenix would defin go back', 'block amaz', 'close hous low key non fanci afford price good food', 'hot sour egg flower soup absolut star', 'sashimi poor qualiti soggi tasteless', 'great time famili dinner sunday night', 'food tasti say real tradit hunan style', 'bother slow servic', 'flair bartend absolut amaz', 'frozen margarita way sugari tast', 'good order twice', 'nutshel restaraunt smell like combin dirti fish market sewer', 'girlfriend veal bad', 'unfortun good', 'pretti satifi experi', 'join club get awesom offer via email', 'perfect someon like beer ice cold case even colder', 'bland flavorless good way describ bare tepid meat', 'chain fan beat place easili', 'nacho must', 'come back', 'mani word say place everyth pretti well', 'staff super nice quick even crazi crowd downtown juri lawyer court staff', 'great atmospher friendli fast servic', 'receiv pita huge lot meat thumb', 'food arriv meh', 'pay hot dog fri look like came kid meal wienerschnitzel idea good meal', 'classic main lobster roll fantast', 'brother law work mall ate day guess sick night', 'good go review place twice herea tribut place tribut event held last night', 'chip salsa realli good salsa fresh', 'place great', 'mediocr food', 'get insid impress place', 'super pissd', 'servic super friendli', 'sad littl veget overcook', 'place nice surpris', 'golden crispi delici', 'high hope place sinc burger cook charcoal grill unfortun tast fell flat way flat', 'could eat bruschetta day devin', 'singl employe came see ok even need water refil final serv us food', 'lastli mozzarella stick best thing order', 'first time ever came amaz experi still tell peopl awesom duck', 'server neglig need made us feel unwelcom would suggest place', 'servic terribl though', 'place overpr consist boba realli overpr', 'pack', 'love place', 'say dessert yummi', 'food terribl', 'season fruit fresh white peach pure', 'kept get wors wors offici done', 'place honestli blown', 'definit would eat', 'wast money', 'love put food nice plastic contain oppos cram littl paper takeout box', 'cr pe delic thin moist', 'aw servic', 'ever go', 'food qualiti horribl', 'price think place would much rather gone', 'servic fair best', 'love sushi found kabuki price hip servic', 'favor stay away dish', 'poor servic', 'one tabl thought food averag worth wait', 'best servic food ever maria server good friendli made day', 'excel', 'paid bill tip felt server terribl job', 'lunch great experi', 'never bland food surpris consid articl read focus much spice flavor', 'food way overpr portion fuck small', 'recent tri caballero back everi week sinc', 'buck head realli expect better food', 'food came good pace', 'ate twice last visit especi enjoy salmon salad', 'back', 'could believ dirti oyster', 'place deserv star', 'would recommend place', 'fact go round star awesom', 'disbelief dish qualifi worst version food ever tast', 'bad day low toler rude custom servic peopl job nice polit wash dish otherwis', 'potato great biscuit', 'probabl would go', 'flavor perfect amount heat', 'price reason servic great', 'wife hate meal coconut shrimp friend realli enjoy meal either', 'fella got huevo ranchero look appeal', 'went happi hour great list wine', 'may say buffet pricey think get pay place get quit lot', 'probabl come back', 'worst food servic', 'place pretti good nice littl vibe restaur', 'talk great custom servic cours back', 'hot dish hot cold dish close room temp watch staff prepar food bare hand glove everyth deep fri oil', 'love fri bean', 'alway pleasur deal', 'plethora salad sandwich everyth tri get seal approv', 'place awesom want someth light healthi summer', 'sushi strip place go', 'servic great even manag came help tabl', 'feel dine room colleg cook cours high class dine servic slow best', 'start review two star edit give one', 'worst sushi ever eat besid costco', 'excel restaur highlight great servic uniqu menu beauti set', 'boyfriend sat bar complet delight experi', 'weird vibe owner', 'hardli meat', 'better bagel groceri store', 'go place gyro', 'love owner chef one authent japanes cool dude', 'burger good pizza use amaz doughi flavorless', 'found six inch long piec wire salsa', 'servic terribl food mediocr', 'defin enjoy', 'order albondiga soup warm tast like tomato soup frozen meatbal', 'three differ occas ask well done medium well three time got bloodiest piec meat plate', 'two bite refus eat anymor', 'servic extrem slow', 'minut wait got tabl', 'serious killer hot chai latt', 'allergi warn menu waitress absolut clue meal contain peanut', 'boyfriend tri mediterranean chicken salad fell love', 'rotat beer tap also highlight place', 'price bit concern mellow mushroom', 'worst thai ever', 'stay vega must get breakfast least', 'want first say server great perfect servic', 'pizza select good', 'strawberri tea good', 'highli unprofession rude loyal patron', 'overal great experi', 'spend money elsewher', 'regular toast bread equal satisfi occasion pat butter mmmm', 'buffet bellagio far anticip', 'drink weak peopl', 'order correct', 'also feel like chip bought made hous', 'disappoint dinner went elsewher dessert', 'chip sal amaz', 'return', 'new fav vega buffet spot', 'serious cannot believ owner mani unexperienc employe run around like chicken head cut', 'sad', 'felt insult disrespect could talk judg anoth human like', 'call steakhous properli cook steak understand', 'impress concept food', 'thing crazi guacamol like pur ed', 'realli noth postino hope experi better', 'got food poison buffet', 'brought fresh batch fri think yay someth warm', 'hilari yummi christma eve dinner rememb biggest fail entir trip us', 'needless say go back anytim soon', 'place disgust', 'everi time eat see care teamwork profession degre', 'ri style calamari joke', 'howev much garlic fondu bare edibl', 'could bare stomach meal complain busi lunch', 'bad lost heart finish', 'also took forev bring us check ask', 'one make scene restaur get definit lost love one', 'disappoint experi', 'food par denni say good', 'want wait mediocr food downright terribl servic place', 'waaaaaayyyyyyyyyi rate say', 'go back', 'place fairli clean food simpli worth', 'place lack style', 'sangria half glass wine full ridicul', 'bother come', 'meat pretti dri slice brisket pull pork', 'build seem pretti neat bathroom pretti trippi eat', 'equal aw', 'probabl hurri go back', 'slow seat even reserv', 'good stretch imagin', 'cashew cream sauc bland veget undercook', 'chipolt ranch dip saus tasteless seem thin water heat', 'bit sweet realli spici enough lack flavor', 'disappoint', 'place horribl way overpr', 'mayb vegetarian fare twice thought averag best', 'busi know', 'tabl outsid also dirti lot time worker alway friendli help menu', 'ambianc feel like buffet set douchey indoor garden tea biscuit', 'con spotti servic', 'fri hot neither burger', 'came back cold', 'food came disappoint ensu', 'real disappoint waiter', 'husband said rude even apolog bad food anyth', 'reason eat would fill night bing drink get carb stomach', 'insult profound deuchebaggeri go outsid smoke break serv solidifi', 'someon order two taco think may part custom servic ask combo ala cart', 'quit disappoint although blame need place door', 'rave review wait eat disappoint', 'del taco pretti nasti avoid possibl', 'hard make decent hamburg', 'like', 'hell go back', 'gotten much better servic pizza place next door servic receiv restaur', 'know big deal place back ya', 'immedi said want talk manag want talk guy shot firebal behind bar', 'ambianc much better', 'unfortun set us disapppoint entre', 'food good', 'server suck wait correct server heimer suck', 'happen next pretti put', 'bad caus know famili own realli want like place', 'overpr get', 'vomit bathroom mid lunch', 'kept look time soon becom minut yet still food', 'place eat circumst would ever return top list', 'start tuna sashimi brownish color obvious fresh', 'food averag', 'sure beat nacho movi would expect littl bit come restaur', 'ha long bay bit flop', 'problem charg sandwich bigger subway sub offer better amount veget', 'shrimp unwrap live mile brushfir liter ice cold', 'lack flavor seem undercook dri', 'realli impress place close', 'would avoid place stay mirag', 'refri bean came meal dri crusti food bland', 'spend money time place els', 'ladi tabl next us found live green caterpillar salad', 'present food aw', 'tell disappoint', 'think food flavor textur lack', 'appetit instantli gone', 'overal impress would go back', 'whole experi underwhelm think go ninja sushi next time', 'wast enough life pour salt wound draw time took bring check']\n"
          ]
        }
      ]
    },
    {
      "cell_type": "code",
      "source": [
        "\"\"\"Old and New Text\"\"\"\n",
        "pd.concat([df,pd.DataFrame(corpus, columns=['New'])], axis = 1)"
      ],
      "metadata": {
        "id": "FroHNkTbmCeG",
        "colab": {
          "base_uri": "https://localhost:8080/",
          "height": 424
        },
        "outputId": "99e8a547-5970-4f1d-cbed-99ab4a324d95"
      },
      "execution_count": 7,
      "outputs": [
        {
          "output_type": "execute_result",
          "data": {
            "text/plain": [
              "                                                Review  Liked  \\\n",
              "0                             Wow... Loved this place.      1   \n",
              "1                                   Crust is not good.      0   \n",
              "2            Not tasty and the texture was just nasty.      0   \n",
              "3    Stopped by during the late May bank holiday of...      1   \n",
              "4    The selection on the menu was great and so wer...      1   \n",
              "..                                                 ...    ...   \n",
              "995  I think food should have flavor and texture an...      0   \n",
              "996                           Appetite instantly gone.      0   \n",
              "997  Overall I was not impressed and would not go b...      0   \n",
              "998  The whole experience was underwhelming, and I ...      0   \n",
              "999  Then, as if I hadn't wasted enough of my life ...      0   \n",
              "\n",
              "                                                   New  \n",
              "0                                       wow love place  \n",
              "1                                           crust good  \n",
              "2                                   tasti textur nasti  \n",
              "3    stop late may bank holiday rick steve recommen...  \n",
              "4                              select menu great price  \n",
              "..                                                 ...  \n",
              "995                      think food flavor textur lack  \n",
              "996                             appetit instantli gone  \n",
              "997                       overal impress would go back  \n",
              "998  whole experi underwhelm think go ninja sushi n...  \n",
              "999  wast enough life pour salt wound draw time too...  \n",
              "\n",
              "[1000 rows x 3 columns]"
            ],
            "text/html": [
              "\n",
              "  <div id=\"df-836b0e2b-115a-44a7-a9da-2b01acf9af8e\">\n",
              "    <div class=\"colab-df-container\">\n",
              "      <div>\n",
              "<style scoped>\n",
              "    .dataframe tbody tr th:only-of-type {\n",
              "        vertical-align: middle;\n",
              "    }\n",
              "\n",
              "    .dataframe tbody tr th {\n",
              "        vertical-align: top;\n",
              "    }\n",
              "\n",
              "    .dataframe thead th {\n",
              "        text-align: right;\n",
              "    }\n",
              "</style>\n",
              "<table border=\"1\" class=\"dataframe\">\n",
              "  <thead>\n",
              "    <tr style=\"text-align: right;\">\n",
              "      <th></th>\n",
              "      <th>Review</th>\n",
              "      <th>Liked</th>\n",
              "      <th>New</th>\n",
              "    </tr>\n",
              "  </thead>\n",
              "  <tbody>\n",
              "    <tr>\n",
              "      <th>0</th>\n",
              "      <td>Wow... Loved this place.</td>\n",
              "      <td>1</td>\n",
              "      <td>wow love place</td>\n",
              "    </tr>\n",
              "    <tr>\n",
              "      <th>1</th>\n",
              "      <td>Crust is not good.</td>\n",
              "      <td>0</td>\n",
              "      <td>crust good</td>\n",
              "    </tr>\n",
              "    <tr>\n",
              "      <th>2</th>\n",
              "      <td>Not tasty and the texture was just nasty.</td>\n",
              "      <td>0</td>\n",
              "      <td>tasti textur nasti</td>\n",
              "    </tr>\n",
              "    <tr>\n",
              "      <th>3</th>\n",
              "      <td>Stopped by during the late May bank holiday of...</td>\n",
              "      <td>1</td>\n",
              "      <td>stop late may bank holiday rick steve recommen...</td>\n",
              "    </tr>\n",
              "    <tr>\n",
              "      <th>4</th>\n",
              "      <td>The selection on the menu was great and so wer...</td>\n",
              "      <td>1</td>\n",
              "      <td>select menu great price</td>\n",
              "    </tr>\n",
              "    <tr>\n",
              "      <th>...</th>\n",
              "      <td>...</td>\n",
              "      <td>...</td>\n",
              "      <td>...</td>\n",
              "    </tr>\n",
              "    <tr>\n",
              "      <th>995</th>\n",
              "      <td>I think food should have flavor and texture an...</td>\n",
              "      <td>0</td>\n",
              "      <td>think food flavor textur lack</td>\n",
              "    </tr>\n",
              "    <tr>\n",
              "      <th>996</th>\n",
              "      <td>Appetite instantly gone.</td>\n",
              "      <td>0</td>\n",
              "      <td>appetit instantli gone</td>\n",
              "    </tr>\n",
              "    <tr>\n",
              "      <th>997</th>\n",
              "      <td>Overall I was not impressed and would not go b...</td>\n",
              "      <td>0</td>\n",
              "      <td>overal impress would go back</td>\n",
              "    </tr>\n",
              "    <tr>\n",
              "      <th>998</th>\n",
              "      <td>The whole experience was underwhelming, and I ...</td>\n",
              "      <td>0</td>\n",
              "      <td>whole experi underwhelm think go ninja sushi n...</td>\n",
              "    </tr>\n",
              "    <tr>\n",
              "      <th>999</th>\n",
              "      <td>Then, as if I hadn't wasted enough of my life ...</td>\n",
              "      <td>0</td>\n",
              "      <td>wast enough life pour salt wound draw time too...</td>\n",
              "    </tr>\n",
              "  </tbody>\n",
              "</table>\n",
              "<p>1000 rows × 3 columns</p>\n",
              "</div>\n",
              "      <button class=\"colab-df-convert\" onclick=\"convertToInteractive('df-836b0e2b-115a-44a7-a9da-2b01acf9af8e')\"\n",
              "              title=\"Convert this dataframe to an interactive table.\"\n",
              "              style=\"display:none;\">\n",
              "        \n",
              "  <svg xmlns=\"http://www.w3.org/2000/svg\" height=\"24px\"viewBox=\"0 0 24 24\"\n",
              "       width=\"24px\">\n",
              "    <path d=\"M0 0h24v24H0V0z\" fill=\"none\"/>\n",
              "    <path d=\"M18.56 5.44l.94 2.06.94-2.06 2.06-.94-2.06-.94-.94-2.06-.94 2.06-2.06.94zm-11 1L8.5 8.5l.94-2.06 2.06-.94-2.06-.94L8.5 2.5l-.94 2.06-2.06.94zm10 10l.94 2.06.94-2.06 2.06-.94-2.06-.94-.94-2.06-.94 2.06-2.06.94z\"/><path d=\"M17.41 7.96l-1.37-1.37c-.4-.4-.92-.59-1.43-.59-.52 0-1.04.2-1.43.59L10.3 9.45l-7.72 7.72c-.78.78-.78 2.05 0 2.83L4 21.41c.39.39.9.59 1.41.59.51 0 1.02-.2 1.41-.59l7.78-7.78 2.81-2.81c.8-.78.8-2.07 0-2.86zM5.41 20L4 18.59l7.72-7.72 1.47 1.35L5.41 20z\"/>\n",
              "  </svg>\n",
              "      </button>\n",
              "      \n",
              "  <style>\n",
              "    .colab-df-container {\n",
              "      display:flex;\n",
              "      flex-wrap:wrap;\n",
              "      gap: 12px;\n",
              "    }\n",
              "\n",
              "    .colab-df-convert {\n",
              "      background-color: #E8F0FE;\n",
              "      border: none;\n",
              "      border-radius: 50%;\n",
              "      cursor: pointer;\n",
              "      display: none;\n",
              "      fill: #1967D2;\n",
              "      height: 32px;\n",
              "      padding: 0 0 0 0;\n",
              "      width: 32px;\n",
              "    }\n",
              "\n",
              "    .colab-df-convert:hover {\n",
              "      background-color: #E2EBFA;\n",
              "      box-shadow: 0px 1px 2px rgba(60, 64, 67, 0.3), 0px 1px 3px 1px rgba(60, 64, 67, 0.15);\n",
              "      fill: #174EA6;\n",
              "    }\n",
              "\n",
              "    [theme=dark] .colab-df-convert {\n",
              "      background-color: #3B4455;\n",
              "      fill: #D2E3FC;\n",
              "    }\n",
              "\n",
              "    [theme=dark] .colab-df-convert:hover {\n",
              "      background-color: #434B5C;\n",
              "      box-shadow: 0px 1px 3px 1px rgba(0, 0, 0, 0.15);\n",
              "      filter: drop-shadow(0px 1px 2px rgba(0, 0, 0, 0.3));\n",
              "      fill: #FFFFFF;\n",
              "    }\n",
              "  </style>\n",
              "\n",
              "      <script>\n",
              "        const buttonEl =\n",
              "          document.querySelector('#df-836b0e2b-115a-44a7-a9da-2b01acf9af8e button.colab-df-convert');\n",
              "        buttonEl.style.display =\n",
              "          google.colab.kernel.accessAllowed ? 'block' : 'none';\n",
              "\n",
              "        async function convertToInteractive(key) {\n",
              "          const element = document.querySelector('#df-836b0e2b-115a-44a7-a9da-2b01acf9af8e');\n",
              "          const dataTable =\n",
              "            await google.colab.kernel.invokeFunction('convertToInteractive',\n",
              "                                                     [key], {});\n",
              "          if (!dataTable) return;\n",
              "\n",
              "          const docLinkHtml = 'Like what you see? Visit the ' +\n",
              "            '<a target=\"_blank\" href=https://colab.research.google.com/notebooks/data_table.ipynb>data table notebook</a>'\n",
              "            + ' to learn more about interactive tables.';\n",
              "          element.innerHTML = '';\n",
              "          dataTable['output_type'] = 'display_data';\n",
              "          await google.colab.output.renderOutput(dataTable, element);\n",
              "          const docLink = document.createElement('div');\n",
              "          docLink.innerHTML = docLinkHtml;\n",
              "          element.appendChild(docLink);\n",
              "        }\n",
              "      </script>\n",
              "    </div>\n",
              "  </div>\n",
              "  "
            ]
          },
          "metadata": {},
          "execution_count": 7
        }
      ]
    },
    {
      "cell_type": "markdown",
      "source": [
        "## **Tokenization**\n",
        "* Involves splitting sentences and words from the body of the text\n",
        "* Corpus – Body of text, singular. Corpora is the plural of this.\n",
        "* Lexicon – Words and their meanings.\n",
        "* Token – Each “entity” that is a part of whatever was split up based on rules. * For examples, each word is a token when a sentence is “tokenized” into words. Each sentence can also be a token, if you tokenized the sentences out of a paragraph.\n",
        "So basically tokenizing involves splitting sentences and words from the body of the text."
      ],
      "metadata": {
        "id": "8sOP4jc3XZdv"
      }
    },
    {
      "cell_type": "code",
      "source": [
        "# libraries\n",
        "from nltk.tokenize import sent_tokenize, word_tokenize\n",
        "nltk.download(\"all\")"
      ],
      "metadata": {
        "colab": {
          "base_uri": "https://localhost:8080/"
        },
        "id": "gnh13OOPQwP5",
        "outputId": "52c186ff-131d-4339-b717-449129208aa3"
      },
      "execution_count": 8,
      "outputs": [
        {
          "output_type": "stream",
          "name": "stderr",
          "text": [
            "[nltk_data] Downloading collection 'all'\n",
            "[nltk_data]    | \n",
            "[nltk_data]    | Downloading package abc to /root/nltk_data...\n",
            "[nltk_data]    |   Package abc is already up-to-date!\n",
            "[nltk_data]    | Downloading package alpino to /root/nltk_data...\n",
            "[nltk_data]    |   Package alpino is already up-to-date!\n",
            "[nltk_data]    | Downloading package averaged_perceptron_tagger to\n",
            "[nltk_data]    |     /root/nltk_data...\n",
            "[nltk_data]    |   Package averaged_perceptron_tagger is already up-\n",
            "[nltk_data]    |       to-date!\n",
            "[nltk_data]    | Downloading package averaged_perceptron_tagger_ru to\n",
            "[nltk_data]    |     /root/nltk_data...\n",
            "[nltk_data]    |   Package averaged_perceptron_tagger_ru is already\n",
            "[nltk_data]    |       up-to-date!\n",
            "[nltk_data]    | Downloading package basque_grammars to\n",
            "[nltk_data]    |     /root/nltk_data...\n",
            "[nltk_data]    |   Package basque_grammars is already up-to-date!\n",
            "[nltk_data]    | Downloading package bcp47 to /root/nltk_data...\n",
            "[nltk_data]    |   Package bcp47 is already up-to-date!\n",
            "[nltk_data]    | Downloading package biocreative_ppi to\n",
            "[nltk_data]    |     /root/nltk_data...\n",
            "[nltk_data]    |   Package biocreative_ppi is already up-to-date!\n",
            "[nltk_data]    | Downloading package bllip_wsj_no_aux to\n",
            "[nltk_data]    |     /root/nltk_data...\n",
            "[nltk_data]    |   Package bllip_wsj_no_aux is already up-to-date!\n",
            "[nltk_data]    | Downloading package book_grammars to\n",
            "[nltk_data]    |     /root/nltk_data...\n",
            "[nltk_data]    |   Package book_grammars is already up-to-date!\n",
            "[nltk_data]    | Downloading package brown to /root/nltk_data...\n",
            "[nltk_data]    |   Package brown is already up-to-date!\n",
            "[nltk_data]    | Downloading package brown_tei to /root/nltk_data...\n",
            "[nltk_data]    |   Package brown_tei is already up-to-date!\n",
            "[nltk_data]    | Downloading package cess_cat to /root/nltk_data...\n",
            "[nltk_data]    |   Package cess_cat is already up-to-date!\n",
            "[nltk_data]    | Downloading package cess_esp to /root/nltk_data...\n",
            "[nltk_data]    |   Package cess_esp is already up-to-date!\n",
            "[nltk_data]    | Downloading package chat80 to /root/nltk_data...\n",
            "[nltk_data]    |   Package chat80 is already up-to-date!\n",
            "[nltk_data]    | Downloading package city_database to\n",
            "[nltk_data]    |     /root/nltk_data...\n",
            "[nltk_data]    |   Package city_database is already up-to-date!\n",
            "[nltk_data]    | Downloading package cmudict to /root/nltk_data...\n",
            "[nltk_data]    |   Package cmudict is already up-to-date!\n",
            "[nltk_data]    | Downloading package comparative_sentences to\n",
            "[nltk_data]    |     /root/nltk_data...\n",
            "[nltk_data]    |   Package comparative_sentences is already up-to-\n",
            "[nltk_data]    |       date!\n",
            "[nltk_data]    | Downloading package comtrans to /root/nltk_data...\n",
            "[nltk_data]    |   Package comtrans is already up-to-date!\n",
            "[nltk_data]    | Downloading package conll2000 to /root/nltk_data...\n",
            "[nltk_data]    |   Package conll2000 is already up-to-date!\n",
            "[nltk_data]    | Downloading package conll2002 to /root/nltk_data...\n",
            "[nltk_data]    |   Package conll2002 is already up-to-date!\n",
            "[nltk_data]    | Downloading package conll2007 to /root/nltk_data...\n",
            "[nltk_data]    |   Package conll2007 is already up-to-date!\n",
            "[nltk_data]    | Downloading package crubadan to /root/nltk_data...\n",
            "[nltk_data]    |   Package crubadan is already up-to-date!\n",
            "[nltk_data]    | Downloading package dependency_treebank to\n",
            "[nltk_data]    |     /root/nltk_data...\n",
            "[nltk_data]    |   Package dependency_treebank is already up-to-date!\n",
            "[nltk_data]    | Downloading package dolch to /root/nltk_data...\n",
            "[nltk_data]    |   Package dolch is already up-to-date!\n",
            "[nltk_data]    | Downloading package europarl_raw to\n",
            "[nltk_data]    |     /root/nltk_data...\n",
            "[nltk_data]    |   Package europarl_raw is already up-to-date!\n",
            "[nltk_data]    | Downloading package extended_omw to\n",
            "[nltk_data]    |     /root/nltk_data...\n",
            "[nltk_data]    |   Package extended_omw is already up-to-date!\n",
            "[nltk_data]    | Downloading package floresta to /root/nltk_data...\n",
            "[nltk_data]    |   Package floresta is already up-to-date!\n",
            "[nltk_data]    | Downloading package framenet_v15 to\n",
            "[nltk_data]    |     /root/nltk_data...\n",
            "[nltk_data]    |   Package framenet_v15 is already up-to-date!\n",
            "[nltk_data]    | Downloading package framenet_v17 to\n",
            "[nltk_data]    |     /root/nltk_data...\n",
            "[nltk_data]    |   Package framenet_v17 is already up-to-date!\n",
            "[nltk_data]    | Downloading package gazetteers to /root/nltk_data...\n",
            "[nltk_data]    |   Package gazetteers is already up-to-date!\n",
            "[nltk_data]    | Downloading package genesis to /root/nltk_data...\n",
            "[nltk_data]    |   Package genesis is already up-to-date!\n",
            "[nltk_data]    | Downloading package gutenberg to /root/nltk_data...\n",
            "[nltk_data]    |   Package gutenberg is already up-to-date!\n",
            "[nltk_data]    | Downloading package ieer to /root/nltk_data...\n",
            "[nltk_data]    |   Package ieer is already up-to-date!\n",
            "[nltk_data]    | Downloading package inaugural to /root/nltk_data...\n",
            "[nltk_data]    |   Package inaugural is already up-to-date!\n",
            "[nltk_data]    | Downloading package indian to /root/nltk_data...\n",
            "[nltk_data]    |   Package indian is already up-to-date!\n",
            "[nltk_data]    | Downloading package jeita to /root/nltk_data...\n",
            "[nltk_data]    |   Package jeita is already up-to-date!\n",
            "[nltk_data]    | Downloading package kimmo to /root/nltk_data...\n",
            "[nltk_data]    |   Package kimmo is already up-to-date!\n",
            "[nltk_data]    | Downloading package knbc to /root/nltk_data...\n",
            "[nltk_data]    |   Package knbc is already up-to-date!\n",
            "[nltk_data]    | Downloading package large_grammars to\n",
            "[nltk_data]    |     /root/nltk_data...\n",
            "[nltk_data]    |   Package large_grammars is already up-to-date!\n",
            "[nltk_data]    | Downloading package lin_thesaurus to\n",
            "[nltk_data]    |     /root/nltk_data...\n",
            "[nltk_data]    |   Package lin_thesaurus is already up-to-date!\n",
            "[nltk_data]    | Downloading package mac_morpho to /root/nltk_data...\n",
            "[nltk_data]    |   Package mac_morpho is already up-to-date!\n",
            "[nltk_data]    | Downloading package machado to /root/nltk_data...\n",
            "[nltk_data]    |   Package machado is already up-to-date!\n",
            "[nltk_data]    | Downloading package masc_tagged to /root/nltk_data...\n",
            "[nltk_data]    |   Package masc_tagged is already up-to-date!\n",
            "[nltk_data]    | Downloading package maxent_ne_chunker to\n",
            "[nltk_data]    |     /root/nltk_data...\n",
            "[nltk_data]    |   Package maxent_ne_chunker is already up-to-date!\n",
            "[nltk_data]    | Downloading package maxent_treebank_pos_tagger to\n",
            "[nltk_data]    |     /root/nltk_data...\n",
            "[nltk_data]    |   Package maxent_treebank_pos_tagger is already up-\n",
            "[nltk_data]    |       to-date!\n",
            "[nltk_data]    | Downloading package moses_sample to\n",
            "[nltk_data]    |     /root/nltk_data...\n",
            "[nltk_data]    |   Package moses_sample is already up-to-date!\n",
            "[nltk_data]    | Downloading package movie_reviews to\n",
            "[nltk_data]    |     /root/nltk_data...\n",
            "[nltk_data]    |   Package movie_reviews is already up-to-date!\n",
            "[nltk_data]    | Downloading package mte_teip5 to /root/nltk_data...\n",
            "[nltk_data]    |   Package mte_teip5 is already up-to-date!\n",
            "[nltk_data]    | Downloading package mwa_ppdb to /root/nltk_data...\n",
            "[nltk_data]    |   Package mwa_ppdb is already up-to-date!\n",
            "[nltk_data]    | Downloading package names to /root/nltk_data...\n",
            "[nltk_data]    |   Package names is already up-to-date!\n",
            "[nltk_data]    | Downloading package nombank.1.0 to /root/nltk_data...\n",
            "[nltk_data]    |   Package nombank.1.0 is already up-to-date!\n",
            "[nltk_data]    | Downloading package nonbreaking_prefixes to\n",
            "[nltk_data]    |     /root/nltk_data...\n",
            "[nltk_data]    |   Package nonbreaking_prefixes is already up-to-date!\n",
            "[nltk_data]    | Downloading package nps_chat to /root/nltk_data...\n",
            "[nltk_data]    |   Package nps_chat is already up-to-date!\n",
            "[nltk_data]    | Downloading package omw to /root/nltk_data...\n",
            "[nltk_data]    |   Package omw is already up-to-date!\n",
            "[nltk_data]    | Downloading package omw-1.4 to /root/nltk_data...\n",
            "[nltk_data]    |   Package omw-1.4 is already up-to-date!\n",
            "[nltk_data]    | Downloading package opinion_lexicon to\n",
            "[nltk_data]    |     /root/nltk_data...\n",
            "[nltk_data]    |   Package opinion_lexicon is already up-to-date!\n",
            "[nltk_data]    | Downloading package panlex_swadesh to\n",
            "[nltk_data]    |     /root/nltk_data...\n",
            "[nltk_data]    |   Package panlex_swadesh is already up-to-date!\n",
            "[nltk_data]    | Downloading package paradigms to /root/nltk_data...\n",
            "[nltk_data]    |   Package paradigms is already up-to-date!\n",
            "[nltk_data]    | Downloading package pe08 to /root/nltk_data...\n",
            "[nltk_data]    |   Package pe08 is already up-to-date!\n",
            "[nltk_data]    | Downloading package perluniprops to\n",
            "[nltk_data]    |     /root/nltk_data...\n",
            "[nltk_data]    |   Package perluniprops is already up-to-date!\n",
            "[nltk_data]    | Downloading package pil to /root/nltk_data...\n",
            "[nltk_data]    |   Package pil is already up-to-date!\n",
            "[nltk_data]    | Downloading package pl196x to /root/nltk_data...\n",
            "[nltk_data]    |   Package pl196x is already up-to-date!\n",
            "[nltk_data]    | Downloading package porter_test to /root/nltk_data...\n",
            "[nltk_data]    |   Package porter_test is already up-to-date!\n",
            "[nltk_data]    | Downloading package ppattach to /root/nltk_data...\n",
            "[nltk_data]    |   Package ppattach is already up-to-date!\n",
            "[nltk_data]    | Downloading package problem_reports to\n",
            "[nltk_data]    |     /root/nltk_data...\n",
            "[nltk_data]    |   Package problem_reports is already up-to-date!\n",
            "[nltk_data]    | Downloading package product_reviews_1 to\n",
            "[nltk_data]    |     /root/nltk_data...\n",
            "[nltk_data]    |   Package product_reviews_1 is already up-to-date!\n",
            "[nltk_data]    | Downloading package product_reviews_2 to\n",
            "[nltk_data]    |     /root/nltk_data...\n",
            "[nltk_data]    |   Package product_reviews_2 is already up-to-date!\n",
            "[nltk_data]    | Downloading package propbank to /root/nltk_data...\n",
            "[nltk_data]    |   Package propbank is already up-to-date!\n",
            "[nltk_data]    | Downloading package pros_cons to /root/nltk_data...\n",
            "[nltk_data]    |   Package pros_cons is already up-to-date!\n",
            "[nltk_data]    | Downloading package ptb to /root/nltk_data...\n",
            "[nltk_data]    |   Package ptb is already up-to-date!\n",
            "[nltk_data]    | Downloading package punkt to /root/nltk_data...\n",
            "[nltk_data]    |   Package punkt is already up-to-date!\n",
            "[nltk_data]    | Downloading package qc to /root/nltk_data...\n",
            "[nltk_data]    |   Package qc is already up-to-date!\n",
            "[nltk_data]    | Downloading package reuters to /root/nltk_data...\n",
            "[nltk_data]    |   Package reuters is already up-to-date!\n",
            "[nltk_data]    | Downloading package rslp to /root/nltk_data...\n",
            "[nltk_data]    |   Package rslp is already up-to-date!\n",
            "[nltk_data]    | Downloading package rte to /root/nltk_data...\n",
            "[nltk_data]    |   Package rte is already up-to-date!\n",
            "[nltk_data]    | Downloading package sample_grammars to\n",
            "[nltk_data]    |     /root/nltk_data...\n",
            "[nltk_data]    |   Package sample_grammars is already up-to-date!\n",
            "[nltk_data]    | Downloading package semcor to /root/nltk_data...\n",
            "[nltk_data]    |   Package semcor is already up-to-date!\n",
            "[nltk_data]    | Downloading package senseval to /root/nltk_data...\n",
            "[nltk_data]    |   Package senseval is already up-to-date!\n",
            "[nltk_data]    | Downloading package sentence_polarity to\n",
            "[nltk_data]    |     /root/nltk_data...\n",
            "[nltk_data]    |   Package sentence_polarity is already up-to-date!\n",
            "[nltk_data]    | Downloading package sentiwordnet to\n",
            "[nltk_data]    |     /root/nltk_data...\n",
            "[nltk_data]    |   Package sentiwordnet is already up-to-date!\n",
            "[nltk_data]    | Downloading package shakespeare to /root/nltk_data...\n",
            "[nltk_data]    |   Package shakespeare is already up-to-date!\n",
            "[nltk_data]    | Downloading package sinica_treebank to\n",
            "[nltk_data]    |     /root/nltk_data...\n",
            "[nltk_data]    |   Package sinica_treebank is already up-to-date!\n",
            "[nltk_data]    | Downloading package smultron to /root/nltk_data...\n",
            "[nltk_data]    |   Package smultron is already up-to-date!\n",
            "[nltk_data]    | Downloading package snowball_data to\n",
            "[nltk_data]    |     /root/nltk_data...\n",
            "[nltk_data]    |   Package snowball_data is already up-to-date!\n",
            "[nltk_data]    | Downloading package spanish_grammars to\n",
            "[nltk_data]    |     /root/nltk_data...\n",
            "[nltk_data]    |   Package spanish_grammars is already up-to-date!\n",
            "[nltk_data]    | Downloading package state_union to /root/nltk_data...\n",
            "[nltk_data]    |   Package state_union is already up-to-date!\n",
            "[nltk_data]    | Downloading package stopwords to /root/nltk_data...\n",
            "[nltk_data]    |   Package stopwords is already up-to-date!\n",
            "[nltk_data]    | Downloading package subjectivity to\n",
            "[nltk_data]    |     /root/nltk_data...\n",
            "[nltk_data]    |   Package subjectivity is already up-to-date!\n",
            "[nltk_data]    | Downloading package swadesh to /root/nltk_data...\n",
            "[nltk_data]    |   Package swadesh is already up-to-date!\n",
            "[nltk_data]    | Downloading package switchboard to /root/nltk_data...\n",
            "[nltk_data]    |   Package switchboard is already up-to-date!\n",
            "[nltk_data]    | Downloading package tagsets to /root/nltk_data...\n",
            "[nltk_data]    |   Package tagsets is already up-to-date!\n",
            "[nltk_data]    | Downloading package timit to /root/nltk_data...\n",
            "[nltk_data]    |   Package timit is already up-to-date!\n",
            "[nltk_data]    | Downloading package toolbox to /root/nltk_data...\n",
            "[nltk_data]    |   Package toolbox is already up-to-date!\n",
            "[nltk_data]    | Downloading package treebank to /root/nltk_data...\n",
            "[nltk_data]    |   Package treebank is already up-to-date!\n",
            "[nltk_data]    | Downloading package twitter_samples to\n",
            "[nltk_data]    |     /root/nltk_data...\n",
            "[nltk_data]    |   Package twitter_samples is already up-to-date!\n",
            "[nltk_data]    | Downloading package udhr to /root/nltk_data...\n",
            "[nltk_data]    |   Package udhr is already up-to-date!\n",
            "[nltk_data]    | Downloading package udhr2 to /root/nltk_data...\n",
            "[nltk_data]    |   Package udhr2 is already up-to-date!\n",
            "[nltk_data]    | Downloading package unicode_samples to\n",
            "[nltk_data]    |     /root/nltk_data...\n",
            "[nltk_data]    |   Package unicode_samples is already up-to-date!\n",
            "[nltk_data]    | Downloading package universal_tagset to\n",
            "[nltk_data]    |     /root/nltk_data...\n",
            "[nltk_data]    |   Package universal_tagset is already up-to-date!\n",
            "[nltk_data]    | Downloading package universal_treebanks_v20 to\n",
            "[nltk_data]    |     /root/nltk_data...\n",
            "[nltk_data]    |   Package universal_treebanks_v20 is already up-to-\n",
            "[nltk_data]    |       date!\n",
            "[nltk_data]    | Downloading package vader_lexicon to\n",
            "[nltk_data]    |     /root/nltk_data...\n",
            "[nltk_data]    |   Package vader_lexicon is already up-to-date!\n",
            "[nltk_data]    | Downloading package verbnet to /root/nltk_data...\n",
            "[nltk_data]    |   Package verbnet is already up-to-date!\n",
            "[nltk_data]    | Downloading package verbnet3 to /root/nltk_data...\n",
            "[nltk_data]    |   Package verbnet3 is already up-to-date!\n",
            "[nltk_data]    | Downloading package webtext to /root/nltk_data...\n",
            "[nltk_data]    |   Package webtext is already up-to-date!\n",
            "[nltk_data]    | Downloading package wmt15_eval to /root/nltk_data...\n",
            "[nltk_data]    |   Package wmt15_eval is already up-to-date!\n",
            "[nltk_data]    | Downloading package word2vec_sample to\n",
            "[nltk_data]    |     /root/nltk_data...\n",
            "[nltk_data]    |   Package word2vec_sample is already up-to-date!\n",
            "[nltk_data]    | Downloading package wordnet to /root/nltk_data...\n",
            "[nltk_data]    |   Package wordnet is already up-to-date!\n",
            "[nltk_data]    | Downloading package wordnet2021 to /root/nltk_data...\n",
            "[nltk_data]    |   Package wordnet2021 is already up-to-date!\n",
            "[nltk_data]    | Downloading package wordnet31 to /root/nltk_data...\n",
            "[nltk_data]    |   Package wordnet31 is already up-to-date!\n",
            "[nltk_data]    | Downloading package wordnet_ic to /root/nltk_data...\n",
            "[nltk_data]    |   Package wordnet_ic is already up-to-date!\n",
            "[nltk_data]    | Downloading package words to /root/nltk_data...\n",
            "[nltk_data]    |   Package words is already up-to-date!\n",
            "[nltk_data]    | Downloading package ycoe to /root/nltk_data...\n",
            "[nltk_data]    |   Package ycoe is already up-to-date!\n",
            "[nltk_data]    | \n",
            "[nltk_data]  Done downloading collection all\n"
          ]
        },
        {
          "output_type": "execute_result",
          "data": {
            "text/plain": [
              "True"
            ]
          },
          "metadata": {},
          "execution_count": 8
        }
      ]
    },
    {
      "cell_type": "code",
      "source": [
        "# print(sent_tokenize(corpus))\n",
        "# print(word_tokenize(corpus))\n",
        "# word_tokenize(corpus[0])\n",
        "# for i in corpus:\n",
        "#   print(i)\n",
        "# word_tokenize(str(corpus))\n",
        "# X = df.iloc[:, :1]\n",
        "# y = df.iloc[:, -1:]"
      ],
      "metadata": {
        "id": "TT1aPF2HYG5R"
      },
      "execution_count": 9,
      "outputs": []
    },
    {
      "cell_type": "markdown",
      "source": [
        "## **Bag of words**\n",
        "* Bag of Words model is used to preprocess the text by converting it into a bag of words, which keeps a count of the total occurrences of most frequently used words"
      ],
      "metadata": {
        "id": "ENNcFJm_b4ze"
      }
    },
    {
      "cell_type": "code",
      "source": [
        "# Creating the Bag of Words model\n",
        "from sklearn.feature_extraction.text import CountVectorizer\n",
        " \n",
        "# To extract max 1500 feature.\n",
        "# \"max_features\" is attribute to\n",
        "# experiment with to get better results\n",
        "cv = CountVectorizer(max_features = 5)\n",
        " \n",
        "# X contains corpus (dependent variable)\n",
        "X = cv.fit_transform(corpus).toarray()\n",
        " \n",
        "# y contains answers if review\n",
        "# is positive or negative\n",
        "y = df.iloc[:, 1].values"
      ],
      "metadata": {
        "id": "VwDiYQubbjpJ"
      },
      "execution_count": 10,
      "outputs": []
    },
    {
      "cell_type": "markdown",
      "source": [
        "## **Train Test Split**"
      ],
      "metadata": {
        "id": "_E8QNaiHccdO"
      }
    },
    {
      "cell_type": "code",
      "source": [
        "from sklearn.model_selection import train_test_split\n",
        "X_train, X_test, y_train, y_test = train_test_split(X, y, test_size = 0.25, random_state = 1)"
      ],
      "metadata": {
        "id": "f3eqtHhfYG8F"
      },
      "execution_count": 11,
      "outputs": []
    },
    {
      "cell_type": "markdown",
      "source": [
        "## **Random Forest**"
      ],
      "metadata": {
        "id": "HEOXpv7fc7wX"
      }
    },
    {
      "cell_type": "code",
      "source": [
        "from sklearn.ensemble import RandomForestClassifier\n",
        "model = RandomForestClassifier(n_estimators = 501, criterion = 'entropy')\n",
        "model.fit(X_train, y_train)"
      ],
      "metadata": {
        "colab": {
          "base_uri": "https://localhost:8080/"
        },
        "id": "Zb_gjz_EYG-3",
        "outputId": "7101ff4c-5e00-4d0c-e5c1-405eba9f3db3"
      },
      "execution_count": 12,
      "outputs": [
        {
          "output_type": "execute_result",
          "data": {
            "text/plain": [
              "RandomForestClassifier(criterion='entropy', n_estimators=501)"
            ]
          },
          "metadata": {},
          "execution_count": 12
        }
      ]
    },
    {
      "cell_type": "code",
      "source": [
        "y_pred = model.predict(X_test) "
      ],
      "metadata": {
        "id": "gW2o-LK5YHCL"
      },
      "execution_count": 13,
      "outputs": []
    },
    {
      "cell_type": "markdown",
      "source": [
        "## **Accuracy**"
      ],
      "metadata": {
        "id": "RyWArzs3SBIp"
      }
    },
    {
      "cell_type": "markdown",
      "source": [
        "* TRUE POSITIVE : measures the proportion of actual positives that are correctly identified. \n",
        "* TRUE NEGATIVE : measures the proportion of actual positives that are not correctly identified. \n",
        "* FALSE POSITIVE : measures the proportion of actual negatives that are correctly identified. \n",
        "* FALSE NEGATIVE : measures the proportion of actual negatives that are not correctly identified.\n",
        "* Note: True or False refers to the assigned classification being Correct or Incorrect, while Positive or Negative refers to assignment to the Positive or the Negative Category "
      ],
      "metadata": {
        "id": "b0Si2y4Rdj3A"
      }
    },
    {
      "cell_type": "markdown",
      "source": [
        "![image.png](data:image/png;base64,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)"
      ],
      "metadata": {
        "id": "Jeqk-R4SfXQc"
      }
    },
    {
      "cell_type": "code",
      "source": [
        "from sklearn.metrics import confusion_matrix\n",
        "cm = confusion_matrix(y_test, y_pred)\n",
        "cm"
      ],
      "metadata": {
        "colab": {
          "base_uri": "https://localhost:8080/"
        },
        "id": "FbUIEQ1Dc65R",
        "outputId": "3376293c-e244-4e9f-e290-db83cfd8c172"
      },
      "execution_count": 14,
      "outputs": [
        {
          "output_type": "execute_result",
          "data": {
            "text/plain": [
              "array([[119,  15],\n",
              "       [ 69,  47]])"
            ]
          },
          "metadata": {},
          "execution_count": 14
        }
      ]
    },
    {
      "cell_type": "code",
      "source": [
        "from sklearn.metrics import classification_report"
      ],
      "metadata": {
        "id": "Q7g52pSpc675"
      },
      "execution_count": 15,
      "outputs": []
    },
    {
      "cell_type": "code",
      "source": [
        "print(classification_report(y_test, y_pred))"
      ],
      "metadata": {
        "colab": {
          "base_uri": "https://localhost:8080/"
        },
        "id": "TtOjD2ybc6_S",
        "outputId": "e3cd4cde-5be6-4174-c13c-874433012d50"
      },
      "execution_count": 16,
      "outputs": [
        {
          "output_type": "stream",
          "name": "stdout",
          "text": [
            "              precision    recall  f1-score   support\n",
            "\n",
            "           0       0.63      0.89      0.74       134\n",
            "           1       0.76      0.41      0.53       116\n",
            "\n",
            "    accuracy                           0.66       250\n",
            "   macro avg       0.70      0.65      0.63       250\n",
            "weighted avg       0.69      0.66      0.64       250\n",
            "\n"
          ]
        }
      ]
    },
    {
      "cell_type": "markdown",
      "source": [
        "## **Sample Prediction**"
      ],
      "metadata": {
        "id": "MT81TBPJvILQ"
      }
    },
    {
      "cell_type": "code",
      "source": [
        "def Predict_Sentiment(sample_review):\n",
        "    word = []\n",
        "    sample_review = re.sub('[^a-zA-Z]', ' ', sample_review)\n",
        "    sample_review = sample_review.lower()\n",
        "    sample_review = sample_review.split()\n",
        "    \"\"\"creating PorterStemmer object to take main stem of each word\"\"\"\n",
        "    ps = PorterStemmer()\n",
        "    \"\"\"loop for stemming each word in string array at ith row\"\"\"   \n",
        "    sample_review = [ps.stem(word) for word in sample_review if not word in set(stopwords.words('english'))]\n",
        "    \"\"\"rejoin all string array elements to create back into a string\"\"\"\n",
        "    sample_review = ' '.join(sample_review) \n",
        "    \"\"\"append each string to create array of clean text\"\"\"\n",
        "    word.append(sample_review)\n",
        "    temp = cv.transform(word).toarray()\n",
        "    return model.predict(temp)[0]\n",
        "    "
      ],
      "metadata": {
        "id": "MlQLOdF7lMZA"
      },
      "execution_count": 17,
      "outputs": []
    },
    {
      "cell_type": "code",
      "source": [
        "if (Predict_Sentiment(\"Food was very good an dit was pretty as well\")):\n",
        "  print(\"Good Review\")\n",
        "else:\n",
        "  print(\"Bad Review\")"
      ],
      "metadata": {
        "colab": {
          "base_uri": "https://localhost:8080/"
        },
        "id": "jPZYxpKM6qcQ",
        "outputId": "b1b8d1f4-2ab6-487e-aaa2-e9721ae454e4"
      },
      "execution_count": 18,
      "outputs": [
        {
          "output_type": "stream",
          "name": "stdout",
          "text": [
            "Good Review\n"
          ]
        }
      ]
    },
    {
      "cell_type": "markdown",
      "source": [
        "## **Save Model**"
      ],
      "metadata": {
        "id": "NlTlKd34TjEO"
      }
    },
    {
      "cell_type": "code",
      "source": [
        "import pickle\n",
        "pickle.dump(model, open(\"model_random.pkl\", \"wb\"))"
      ],
      "metadata": {
        "id": "pLpP4HCfTljf"
      },
      "execution_count": 19,
      "outputs": []
    },
    {
      "cell_type": "code",
      "source": [],
      "metadata": {
        "id": "i480eaHjT9vv"
      },
      "execution_count": 19,
      "outputs": []
    }
  ]
}